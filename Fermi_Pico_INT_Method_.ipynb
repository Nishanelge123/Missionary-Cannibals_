{
  "cells": [
    {
      "cell_type": "markdown",
      "metadata": {
        "id": "view-in-github",
        "colab_type": "text"
      },
      "source": [
        "<a href=\"https://colab.research.google.com/github/Nishanelge123/Missionary-Cannibals_/blob/main/Fermi_Pico_INT_Method_.ipynb\" target=\"_parent\"><img src=\"https://colab.research.google.com/assets/colab-badge.svg\" alt=\"Open In Colab\"/></a>"
      ]
    },
    {
      "cell_type": "code",
      "execution_count": null,
      "id": "b88efe1e",
      "metadata": {
        "colab": {
          "base_uri": "https://localhost:8080/"
        },
        "id": "b88efe1e",
        "outputId": "220fc845-b5ee-4cca-83bc-34024306b6e9"
      },
      "outputs": [
        {
          "output_type": "stream",
          "name": "stdout",
          "text": [
            "Enter the number of digits : 3\n",
            "Enter the maximum number of guesses allowed : 5\n",
            "No Repetitive Digits found in the result number!\n",
            "Enter Guess Number : 567\n",
            "Guess Number : 567 \tResult :  Bagels\n",
            "Enter Guess Number : 456\n",
            "Guess Number : 456 \tResult :  Fermi  \n",
            "Enter Guess Number : 432\n",
            "Guess Number : 432 \tResult :  Fermi  \n",
            "Enter Guess Number : 418\n",
            "Guess Number : 418 \tResult :  Fermi  \n",
            "Enter Guess Number : 479\n",
            "Guess Number : 479 \tResult :  Fermi Fermi  \n",
            "Maximum Number of Guesses reached!\n",
            "Could not guess the Result Number!\n",
            "Result Number :  409\n",
            "You Lose!\n",
            "GAME OVER!\n"
          ]
        }
      ],
      "source": [
        "import random\n",
        "def repetitive_digits(digits,result_number):\n",
        "    count = [0] * 10\n",
        "    res = 0\n",
        "    for i in range(digits):\n",
        "        n = result_number % 10\n",
        "        count[n] += 1\n",
        "        result_number = result_number // 10\n",
        "    for i in range(10):\n",
        "        if count[i] > 1:\n",
        "            res += 1\n",
        "            print('Number of Repetitve Digits : ',count[i]) \n",
        "    if res > 0:\n",
        "        print('Repetitive Digits are present in the result number!')\n",
        "        return(True)\n",
        "    else:\n",
        "        print('No Repetitive Digits found in the result number!')\n",
        "        return(False)\n",
        "    \n",
        "while True:\n",
        "    digits = int(input('Enter the number of digits : '))\n",
        "    guess_number_count = 0\n",
        "    guess_number = 0\n",
        "    guess_count = int(input('Enter the maximum number of guesses allowed : '))\n",
        "    result_number = random.randint(10**(digits - 1) ,10**(digits) - 1)\n",
        "    fermi = 0\n",
        "    pico = 0\n",
        "    bagels = 0\n",
        "\n",
        "    while(True):\n",
        "        if repetitive_digits(digits,result_number) == True:\n",
        "            break\n",
        "        else:\n",
        "            while guess_number_count < guess_count:\n",
        "\n",
        "                guess_number = int(input('Enter Guess Number : '))\n",
        "                guess_number_count += 1\n",
        "                c1 = [0] * digits\n",
        "                c2 = [0] * digits\n",
        "                n1 = result_number\n",
        "                n2 = guess_number\n",
        "                fermi = 0\n",
        "                pico = 0\n",
        "                bagels = 0\n",
        "\n",
        "                for i in range(digits):\n",
        "                    c1[digits - (i + 1)] = n1 % 10\n",
        "                    n1 = n1 // 10\n",
        "\n",
        "                for i in range(digits):\n",
        "                    c2[digits - (i + 1)] = n2 % 10\n",
        "                    n2 = n2 // 10\n",
        "\n",
        "                for i in c1:\n",
        "                    if i not in c2:\n",
        "                        bagels += 1\n",
        "\n",
        "                if bagels < digits:\n",
        "                    for i in range(digits):\n",
        "                        for j in range(digits):\n",
        "                            if (c1[i] == c2[j]) and (i == j):\n",
        "                                fermi += 1\n",
        "                            elif (c1[i] == c2[j]) and (i != j):\n",
        "                                pico += 1\n",
        "\n",
        "                if bagels == digits:\n",
        "                    print('Guess Number :',guess_number,'\\tResult : ','Bagels')\n",
        "                elif fermi == digits:\n",
        "                    print('Guess Number :',guess_number,'\\tResult : ','Fermi '*fermi,'Pico '*pico)\n",
        "                    break\n",
        "                else:\n",
        "                    print('Guess Number :',guess_number,'\\tResult : ','Fermi '*fermi,'Pico '*pico)\n",
        "\n",
        "        if fermi == digits:\n",
        "            break\n",
        "        else:\n",
        "            print('Maximum Number of Guesses reached!')\n",
        "            break\n",
        "\n",
        "    if fermi == digits:\n",
        "        print('Number of Guess Count Taken : ',guess_number_count)\n",
        "        print('Result Number : Guess Number : ',guess_number)\n",
        "        print('You Win!')\n",
        "        break\n",
        "    else:\n",
        "        print('Could not guess the Result Number!')\n",
        "        print('Result Number : ',result_number)\n",
        "        print('You Lose!')\n",
        "        break\n",
        "\n",
        "print('GAME OVER!')                "
      ]
    },
    {
      "cell_type": "code",
      "execution_count": null,
      "id": "57436647",
      "metadata": {
        "id": "57436647"
      },
      "outputs": [],
      "source": []
    }
  ],
  "metadata": {
    "kernelspec": {
      "display_name": "Python 3 (ipykernel)",
      "language": "python",
      "name": "python3"
    },
    "language_info": {
      "codemirror_mode": {
        "name": "ipython",
        "version": 3
      },
      "file_extension": ".py",
      "mimetype": "text/x-python",
      "name": "python",
      "nbconvert_exporter": "python",
      "pygments_lexer": "ipython3",
      "version": "3.10.0"
    },
    "colab": {
      "provenance": [],
      "include_colab_link": true
    }
  },
  "nbformat": 4,
  "nbformat_minor": 5
}