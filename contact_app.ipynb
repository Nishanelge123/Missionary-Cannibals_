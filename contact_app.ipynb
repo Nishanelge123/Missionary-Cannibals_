{
  "cells": [
    {
      "cell_type": "markdown",
      "metadata": {
        "id": "view-in-github",
        "colab_type": "text"
      },
      "source": [
        "<a href=\"https://colab.research.google.com/github/Nishanelge123/Missionary-Cannibals_/blob/main/contact_app.ipynb\" target=\"_parent\"><img src=\"https://colab.research.google.com/assets/colab-badge.svg\" alt=\"Open In Colab\"/></a>"
      ]
    },
    {
      "cell_type": "markdown",
      "metadata": {
        "id": "ZCxObSJe1KMn"
      },
      "source": [
        "# Contact app\n",
        "\n",
        "You have learnt a lot of new things; data structures, string, regex & files. Lets use all our newly acquired knowledge to build a **contact app**, just like the ones in our smartphone.\n",
        "\n",
        "We will not be building a fancy UI, instead we will focus on understanding the programming logic.\n",
        "\n",
        "Lets get started!\n",
        "\n",
        "Think of all the features that your contact app has . . . !\n",
        "- It can show you all the contact names\n",
        "- You can search for contacts (using name)\n",
        "- You can see all the information associated with the contact\n",
        "- You can delete and update contacts\n",
        "\n",
        "Can you think of anything more ? Our contact app should have at least these features. \n",
        "- The app should show us all the contact names\n",
        "- It should allow us to select a contact and view all the information associated with the contact\n",
        "- It should allow us to update contact info & delete contact\n",
        "- Finally, it should show us all the contact names\n",
        "\n",
        "For every contact, we will store the `name`, `number` & `email`. "
      ]
    },
    {
      "cell_type": "code",
      "source": [],
      "metadata": {
        "id": "_UnZuQM83nV9"
      },
      "execution_count": null,
      "outputs": []
    },
    {
      "cell_type": "markdown",
      "metadata": {
        "id": "w-L84O631KMv"
      },
      "source": [
        "### Data Structure\n",
        "The very first thing that we need to decide is \"What data structure to use?\"\n",
        "\n",
        "To store all the contacts, we can use a list of dictionaries; were each dictionary stores the `name`, `number` & `email`  of the contact. \n",
        "\n",
        "Create a list of dictionaries called `contacts` with 3 dummy contacts.  "
      ]
    },
    {
      "cell_type": "code",
      "execution_count": null,
      "metadata": {
        "id": "ppvZ-Mpp5bs2"
      },
      "outputs": [],
      "source": [
        "## your code here\n",
        "contacts=[{'name':'nisha','number':9067564512,'email':'nisha123@gmail.com'},\n",
        "         {'name':'tanvi','number':6789124467,'email':'tanvi123@gmail.com'},\n",
        "         {'name':'soham','number':7892658667,'email':'samu@gmail.com'}]"
      ]
    },
    {
      "cell_type": "code",
      "source": [],
      "metadata": {
        "id": "BYxuWXGi-h7G"
      },
      "execution_count": null,
      "outputs": []
    },
    {
      "cell_type": "markdown",
      "metadata": {
        "id": "WlvchL8X1KMy"
      },
      "source": [
        "### List all contact names\n",
        "Write `show_contacts` function that takes the `contacts` list and prints all the contact names. These names will help us to select the contact later."
      ]
    },
    {
      "cell_type": "code",
      "execution_count": null,
      "metadata": {
        "id": "lfu4sXx11KMz",
        "colab": {
          "base_uri": "https://localhost:8080/"
        },
        "outputId": "ca5c626a-d2a9-4af7-f0aa-f5ee87f8a53f"
      },
      "outputs": [
        {
          "output_type": "stream",
          "name": "stdout",
          "text": [
            "nisha\n",
            "tanvi\n",
            "soham\n"
          ]
        }
      ],
      "source": [
        "def show_contacts(contacts):\n",
        " # name1=[]\n",
        " # name1.append((contacts[0]['name'],contacts[1]['name']))\n",
        "  for d in contacts:\n",
        "    print(d['name'])\n",
        "show_contacts(contacts)\n",
        "\n"
      ]
    },
    {
      "cell_type": "markdown",
      "metadata": {
        "id": "YGOUPFKl1KM1"
      },
      "source": [
        "### Add a new Contact\n",
        "\n",
        "Write `add_contact` function that takes user input and *adds new contact* dictionary to the existing list of `contacts`."
      ]
    },
    {
      "cell_type": "code",
      "execution_count": null,
      "metadata": {
        "id": "gDb_IYnN1KM3"
      },
      "outputs": [],
      "source": [
        "def add_contact(contacts):\n",
        "    nd={'name':input(\"name: \"),'no':input(\"no: \"),'email':input(\"email: \")}\n",
        "    contacts.append(nd)\n",
        "   \n"
      ]
    },
    {
      "cell_type": "code",
      "execution_count": null,
      "metadata": {
        "id": "xrenL4-s1KM4",
        "colab": {
          "base_uri": "https://localhost:8080/"
        },
        "outputId": "6ec4e10d-2dd2-4301-8bab-79266e13dc40"
      },
      "outputs": [
        {
          "output_type": "stream",
          "name": "stdout",
          "text": [
            "name: nisha\n",
            "no: 7958453556\n",
            "email: hvgrgtk\n",
            "[{'name': 'nisha', 'number': 9067564512, 'email': 'nisha123@gmail.com'}, {'name': 'tanvi', 'number': 6789124467, 'email': 'tanvi123@gmail.com'}, {'name': 'soham', 'number': 7892658667, 'email': 'samu@gmail.com'}, {'name': 'nisha', 'no': '7958453556', 'email': 'hvgrgtk'}]\n"
          ]
        }
      ],
      "source": [
        "\n",
        "add_contact(contacts)\n",
        "print(contacts)"
      ]
    },
    {
      "cell_type": "markdown",
      "metadata": {
        "id": "WMZ_Ds491KM5"
      },
      "source": [
        "### Delete Contact\n",
        "\n",
        "Write `delete_contact` function to delete an existing contact by providing `name` of the contact which we want to delete."
      ]
    },
    {
      "cell_type": "code",
      "execution_count": null,
      "metadata": {
        "id": "-UOsfaL81KM6"
      },
      "outputs": [],
      "source": [
        "def delete_contact(contacts, name):\n",
        "   \n",
        "    for i, val in enumerate(contacts):\n",
        "        if val['name']==name:\n",
        "                del(contacts[i])\n",
        "         \n",
        "        "
      ]
    },
    {
      "cell_type": "code",
      "execution_count": null,
      "metadata": {
        "id": "EXyrAYdH1KM6",
        "colab": {
          "base_uri": "https://localhost:8080/"
        },
        "outputId": "4798a588-d661-4846-d5f6-18d46337e6e2"
      },
      "outputs": [
        {
          "output_type": "stream",
          "name": "stdout",
          "text": [
            "[{'name': 'tanvi', 'number': 6789124467, 'email': 'tanvi123@gmail.com'}, {'name': 'soham', 'number': 7892658667, 'email': 'samu@gmail.com'}]\n"
          ]
        }
      ],
      "source": [
        "delete_contact(contacts,'nisha')\n",
        "print(contacts)\n"
      ]
    },
    {
      "cell_type": "code",
      "source": [
        "contacts"
      ],
      "metadata": {
        "colab": {
          "base_uri": "https://localhost:8080/"
        },
        "id": "a7AFRooyLKKt",
        "outputId": "7440fe84-e5f0-402a-f0a8-9d85d9460d41"
      },
      "execution_count": null,
      "outputs": [
        {
          "output_type": "execute_result",
          "data": {
            "text/plain": [
              "[{'email': 'tanvi123@gmail.com', 'name': 'tanvi', 'number': 6789124467},\n",
              " {'email': 'samu@gmail.com', 'name': 'soham', 'number': 7892658667}]"
            ]
          },
          "metadata": {},
          "execution_count": 9
        }
      ]
    },
    {
      "cell_type": "markdown",
      "metadata": {
        "id": "wIuTDR0a1KM7"
      },
      "source": [
        "### Update Contact details\n",
        "\n",
        "Let's write `update_contact` function which will *update contact details* such as `name`, `email` & `number`. \n",
        "The functions should take `contacts` and `name` as arguments. It should also print the newly added contact."
      ]
    },
    {
      "cell_type": "code",
      "execution_count": null,
      "metadata": {
        "id": "Y1NZxk251KM8",
        "colab": {
          "base_uri": "https://localhost:8080/"
        },
        "outputId": "64d972b9-dc79-4e87-9c94-1dec1af5545c"
      },
      "outputs": [
        {
          "output_type": "stream",
          "name": "stdout",
          "text": [
            "select ur choice: number\n",
            "[{'name': 'tanvi', 'number': 6789124467, 'email': 'tanvi123@gmail.com'}, {'name': 'soham', 'number': 7892658667, 'email': 'samu@gmail.com'}]\n"
          ]
        }
      ],
      "source": [
        "def update_contact(contacts, name):\n",
        "  #choice='name/number/email\n",
        "  user_ip=input(\"select ur choice: \")\n",
        "  for con in contacts:\n",
        "    if con['name']==name:\n",
        "      con[user_ip]= input(user_ip+':'  )\n",
        "      \n",
        "update_contact(contacts, 'nisha')\n",
        "print(contacts)"
      ]
    },
    {
      "cell_type": "markdown",
      "metadata": {
        "id": "tQQxUQeB1KM9"
      },
      "source": [
        "### Open Contact \n",
        "`open_contact` function takes the `contacts` list and a `name` string as input. It prints the contact details if `name` matches some contact name in the `contacts` list, else prints `No match found!`.\n",
        "\n",
        "**Note:** The functions should be case insensitive. "
      ]
    },
    {
      "cell_type": "code",
      "execution_count": null,
      "metadata": {
        "id": "vrWpwcwr1KM9"
      },
      "outputs": [],
      "source": [
        "def open_contact(contacts, name):\n",
        "    for i in contacts:\n",
        "      if(i['name'])==name:\n",
        "        print(i)\n",
        "      else:\n",
        "        print(\"no match found\")"
      ]
    },
    {
      "cell_type": "code",
      "execution_count": null,
      "metadata": {
        "id": "3xdLlgdR1KM-",
        "colab": {
          "base_uri": "https://localhost:8080/"
        },
        "outputId": "de98a8c8-4b16-42e0-ab78-273442bf3efe"
      },
      "outputs": [
        {
          "output_type": "stream",
          "name": "stdout",
          "text": [
            "no match found\n",
            "no match found\n"
          ]
        }
      ],
      "source": [
        "open_contact(contacts, 'dipti')"
      ]
    },
    {
      "cell_type": "markdown",
      "metadata": {
        "id": "Og-OAYY81KM-"
      },
      "source": [
        "We often see *update* & *delete* options after we open a particular contact. It would be great if we can also implement the same. \n",
        "\n",
        "After opening the contact, the program should wait for user input. The user can press `u` to update & `d` delete contact. Any other key press should be ignored\n",
        "\n",
        "Write the updated `open_contact` function below"
      ]
    },
    {
      "cell_type": "code",
      "execution_count": null,
      "metadata": {
        "id": "--nLBIz21KM_"
      },
      "outputs": [],
      "source": [
        "def open_contact(contacts, name):\n",
        "  for i in contacts:\n",
        "      if(i['name'])==name:\n",
        "        print(i)\n",
        "        user_ip=input(\"print either u(update) or d(delete): \")\n",
        "        if user_ip==\"d\":\n",
        "          delete_contact(contacts,name)\n",
        "        elif user_ip==\"u\":\n",
        "          update_contact(contacts, name)\n",
        "        break\n",
        "      else:\n",
        "        print(\"no match found\")\n",
        "        \n",
        "    "
      ]
    },
    {
      "cell_type": "code",
      "execution_count": null,
      "metadata": {
        "id": "j_IzuGTk1KM_",
        "colab": {
          "base_uri": "https://localhost:8080/"
        },
        "outputId": "fee52512-b820-4a71-803e-f6a9c3ee484b"
      },
      "outputs": [
        {
          "output_type": "stream",
          "name": "stdout",
          "text": [
            "no match found\n",
            "no match found\n",
            "[{'name': 'tanvi', 'number': 6789124467, 'email': 'tanvi123@gmail.com'}, {'name': 'soham', 'number': 7892658667, 'email': 'samu@gmail.com'}]\n"
          ]
        }
      ],
      "source": [
        "open_contact(contacts, 'nisha')\n",
        "print(contacts)"
      ]
    },
    {
      "cell_type": "markdown",
      "metadata": {
        "id": "sPceegVQ1KNA"
      },
      "source": [
        "### Complete application (using all the above functions in use)\n",
        "\n",
        "We will use an infinite loop to encapsulate our application logic and break only when `q` is pressed. We will use `clear_output()` function from `IPython.display` to clear the output before printing anything new.\n",
        "\n",
        "Below is the pseudo-code to help you build the application logic."
      ]
    },
    {
      "cell_type": "code",
      "execution_count": null,
      "metadata": {
        "id": "g-Ao5QVj1KNA",
        "colab": {
          "base_uri": "https://localhost:8080/"
        },
        "outputId": "d4d12ca7-1bdd-4242-83de-c3f3f9408d84"
      },
      "outputs": [
        {
          "name": "stdout",
          "output_type": "stream",
          "text": [
            "Press 'a' - add contact, 'o' - open contact, 's' - search contact, 'q' - quito\n",
            "Enter name of the contact you want to open. nisha\n",
            "{'name': 'nisha', 'number': 9067564512, 'email': 'nisha123@gmail.com'}\n",
            "print either u(update) or d(delete): u\n",
            "select ur choice: number\n",
            "number:768594\n",
            "Press 'a' - add contact, 'o' - open contact, 's' - search contact, 'q' - quitq\n"
          ]
        }
      ],
      "source": [
        "from IPython.display import clear_output\n",
        "\n",
        "while True:\n",
        "## show all contacts\n",
        "\n",
        "## your code here\n",
        "  contacts=[{'name':'nisha','number':9067564512,'email':'nisha123@gmail.com'},\n",
        "         {'name':'tanvi','number':6789124467,'email':'tanvi123@gmail.com'},\n",
        "         {'name':'soham','number':7892658667,'email':'samu@gmail.com'}]\n",
        "\n",
        "    \n",
        "  action = input(\"Press 'a' - add contact, 'o' - open contact, 's' - search contact, 'q' - quit\")\n",
        "  if action == 'a':\n",
        "        add_contact(contacts)\n",
        "\n",
        "  elif action == 'o':\n",
        "        name = input(\"Enter name of the contact you want to open. \")        \n",
        "        open_contact(contacts, name)\n",
        "\n",
        "  elif action == 'q':\n",
        "        break\n",
        "  else:\n",
        "        print(\"incorrect choice\")"
      ]
    },
    {
      "cell_type": "code",
      "execution_count": null,
      "metadata": {
        "id": "U4JelHfSphpy"
      },
      "outputs": [],
      "source": []
    },
    {
      "cell_type": "code",
      "source": [],
      "metadata": {
        "id": "JcFmHn5Gtf1A"
      },
      "execution_count": null,
      "outputs": []
    },
    {
      "cell_type": "markdown",
      "metadata": {
        "id": "w51OO1jK1KNB"
      },
      "source": [
        "## Using files\n",
        "\n",
        "One major problem with the above approach is \"persistent storage\". Every time you close this notebook, all the new contacts are lost. This happens because `contacts` is a python variable. Its lives inside python session. As soon as the session is killed/terminated, all the varibles are also deleted.\n",
        "\n",
        "To address this problem, we will have to use save the contacts in a disk. What better reason to use files? Instead of using *list of dictionary*, use file to save the contacts. \n",
        "\n",
        "Save every new contact in a new-line and use \" , \" to separate the contact fields. This is how the above contacts should look, when saved in a file.\n",
        "\n",
        "```text\n",
        "vivek, vivek@gmail.com, 9921668254\n",
        "ankur, ankur@gmail.com, 8806807004\n",
        "pranav, pranav@gmail.com, 987654321\n",
        "```\n",
        "\n",
        "You task is to make appropriate changes to the above code to use `contacts.txt` instead of using `contacts` list."
      ]
    },
    {
      "cell_type": "code",
      "source": [
        "from IPython.display import clear_output\n",
        "\n",
        "while True:\n",
        "## show all contacts\n",
        "\n",
        "## your code here\n",
        "    \n",
        "  \n",
        "    f=open('/content/cnt.txt','r')\n",
        "    f.read()\n",
        "\n",
        "\n",
        "    for i in contacts:\n",
        "      f1=open('/content/cnt.txt',w)\n",
        "      f.write(i)\n",
        "\n",
        "    \n",
        "    action = input(\"Press 'a' - add contact, 'o' - open contact, 's' - search contact, 'q' - quit\")\n",
        "    if action == 'a':\n",
        "        add_contac(cnt.txt)\n",
        "\n",
        "    elif action == 'o':\n",
        "        name = input(\"Enter name of the contact you want to open. \")        \n",
        "        open_contact(cnt.txt, name)\n",
        "\n",
        "    elif action == 'q':\n",
        "        break\n",
        "    else:\n",
        "        print(\"incorrect choice\")"
      ],
      "metadata": {
        "id": "TTYwRGcVth_C",
        "colab": {
          "base_uri": "https://localhost:8080/",
          "height": 35
        },
        "outputId": "1b70149b-b077-40bb-fce7-f6e64ec6b373"
      },
      "execution_count": null,
      "outputs": [
        {
          "output_type": "execute_result",
          "data": {
            "text/plain": [
              "'vivek, vivek@gmail.com, 9921668254,\\nankur, ankur@gmail.com, 8806807004,\\npranav, pranav@gmail.com, 987654321'"
            ],
            "application/vnd.google.colaboratory.intrinsic+json": {
              "type": "string"
            }
          },
          "metadata": {},
          "execution_count": 19
        }
      ]
    },
    {
      "cell_type": "code",
      "source": [
        "f=open('/content/cnt.txt','r')\n",
        "f.read()\n",
        "f.close()\n",
        "\n",
        "f=open('/content/cnt.txt')\n",
        "f.close()\n",
        "line=''\n",
        "for cont in contacts:\n",
        "  for v,u in cont.items():\n",
        "    line+=str(u)+','\n",
        "  line+='\\n'\n",
        "    #print(['name'+v['email']+v['number'])\n",
        "f=open('/content/cnt.txt','w')\n",
        "f.write(line)\n",
        "\n"
      ],
      "metadata": {
        "id": "uiJD7Z6mtiLS",
        "colab": {
          "base_uri": "https://localhost:8080/"
        },
        "outputId": "058ebe8b-93c6-4008-df0a-460cf57c0e47"
      },
      "execution_count": null,
      "outputs": [
        {
          "output_type": "execute_result",
          "data": {
            "text/plain": [
              "137"
            ]
          },
          "metadata": {},
          "execution_count": 75
        }
      ]
    },
    {
      "cell_type": "markdown",
      "metadata": {
        "id": "XxHfBya21KNC"
      },
      "source": [
        "## Using Regex\n",
        "\n",
        "Yet another problem with our app is \"lack of validation\". While creating a new contact, user is free to enter anything. But why is that a problem? \n",
        "\n",
        "**Input validation** is important to ensure only properly formed data is entering the workflow in an information system, preventing malformed data from persisting in the database and triggering malfunction of various downstream components. Input validation should happen as early as possible in the data flow, preferably as soon as the data is received. [source](https://cheatsheetseries.owasp.org/cheatsheets/Input_Validation_Cheat_Sheet.html)\n",
        "\n",
        "The above paragraph is the complete gist of Input validation. Read it again & ponder for a minute. Its an important concept when building customer facing applications. We would highly recommend you to Google and read more about it.  \n",
        "\n",
        "Use regular expression to validate user input (before you save it to the file). Implement the following:\n",
        "- `Name` should be all alphabets. \" \" should also be allowed.\n",
        "- For `email` refer regex chapter from course material.\n",
        "- `Number` should have 10 digits. Not less, not more. Also, not alphabets should be allowed.\n",
        "- Add a new field `DOB` to each contact. It should follow YYYY-MM-DD format. Then write a regular expression to validate it. Remember, date & month cannot be greater that 31 & 12, respectively. \n",
        "\n",
        "Can you think of any more validations?"
      ]
    },
    {
      "cell_type": "code",
      "source": [
        "import re\n",
        "name=input(\"name: \")\n",
        "# regex=re.compile(\"[A-Za-z]+\")\n",
        "# y=(regex.match(name))\n",
        "\n",
        "if re.match(\"^[a-zA-Z]+$\", name):\n",
        "    print(name)\n",
        "else:\n",
        "    print(\"invalid input\")\n",
        "    input(\"name: \")\n",
        "email=input(\"email: \")\n",
        "if re.match(\"r'(?P<user>[\\w.]+)@(?P<domain>\\w+)\\.(?P<suffix>[a-z]{3})\",email):\n",
        "  print(email)\n",
        "else:\n",
        "  print(\"invalid input\")\n",
        "  input(\"email: \")\n",
        "number=input(\"number: \")\n",
        "if re.match(\"[\\d]+\",number):\n",
        "  print(number)\n",
        "else:\n",
        "  print(\"invalid input\")\n",
        "  input(\"number: \")"
      ],
      "metadata": {
        "colab": {
          "base_uri": "https://localhost:8080/"
        },
        "id": "lbIQ4g2sfWKr",
        "outputId": "13860d69-a7f6-4ad2-b033-937c0b3eafcd"
      },
      "execution_count": null,
      "outputs": [
        {
          "output_type": "stream",
          "name": "stdout",
          "text": [
            "name: nisha\n",
            "nisha\n",
            "email: aiadventure.pune@gmail.com\n",
            "invalid input\n",
            "email: 'aiadventures.pune@gmail.com'\n",
            "number: 63464789367\n",
            "63464789367\n"
          ]
        }
      ]
    },
    {
      "cell_type": "code",
      "source": [
        "import re\n",
        "def loop(contacts,name):\n",
        "  name=input(\"enter name\")\n",
        "  while not re.match(\"^[a-zA-Z]+$\", name) :\n",
        "    if not re.match(\"^[a-zA-Z]+$\", name):\n",
        "      name=input(\"enter name\")\n",
        "    else:\n",
        "          print(name)\n",
        "  email=input(\"enter email\")\n",
        "  while not re.match(\"\\w+[@]\\w+.\\w{3}\",email) :\n",
        "    if not re.match(\"\\w+[@]\\w+.\\w{3}\",email):\n",
        "      name=input(\"enter email\")\n",
        "    else:\n",
        "          print(email)\n",
        "  number=input(\"enter number\")  \n",
        "  while not re.match(\"[\\d]+\",number) :\n",
        "    if not re.match(\"[\\d]+\",number):\n",
        "      name=input(\"enter num\")\n",
        "    else:\n",
        "          print(number)\n",
        "   \n",
        "    \n",
        "    \n",
        "      \n",
        "      \n",
        "loop(contacts,'nisha')\n",
        "  \n",
        "  \n",
        "\n",
        "\n",
        "\n"
      ],
      "metadata": {
        "id": "-5E6b3OG9FaW",
        "colab": {
          "base_uri": "https://localhost:8080/"
        },
        "outputId": "dbe59a69-9ff1-45e9-adc0-c221ca57c994"
      },
      "execution_count": null,
      "outputs": [
        {
          "name": "stdout",
          "output_type": "stream",
          "text": [
            "enter namevffhbh\n",
            "enter emailbuvbhu@vdvtd.gmail.com\n",
            "enter number64546548358\n"
          ]
        }
      ]
    },
    {
      "cell_type": "markdown",
      "metadata": {
        "id": "F3BS_SZl1KND"
      },
      "source": [
        "We really hope you had a wonderful time building this applications. This is how applications are developed in really life. You start with a set of basic functionalities and then you keep adding new features (like persistent storage & validation). As the application grows in size, you might encounter new problems to solve."
      ]
    },
    {
      "cell_type": "code",
      "source": [],
      "metadata": {
        "id": "ZhW2g2lEmZd-"
      },
      "execution_count": null,
      "outputs": []
    }
  ],
  "metadata": {
    "kernelspec": {
      "display_name": "Python 3",
      "language": "python",
      "name": "python3"
    },
    "language_info": {
      "codemirror_mode": {
        "name": "ipython",
        "version": 3
      },
      "file_extension": ".py",
      "mimetype": "text/x-python",
      "name": "python",
      "nbconvert_exporter": "python",
      "pygments_lexer": "ipython3",
      "version": "3.7.4"
    },
    "toc": {
      "base_numbering": 1,
      "nav_menu": {},
      "number_sections": true,
      "sideBar": true,
      "skip_h1_title": false,
      "title_cell": "Table of Contents",
      "title_sidebar": "Contents",
      "toc_cell": false,
      "toc_position": {},
      "toc_section_display": true,
      "toc_window_display": false
    },
    "colab": {
      "provenance": [],
      "collapsed_sections": [],
      "include_colab_link": true
    }
  },
  "nbformat": 4,
  "nbformat_minor": 0
}