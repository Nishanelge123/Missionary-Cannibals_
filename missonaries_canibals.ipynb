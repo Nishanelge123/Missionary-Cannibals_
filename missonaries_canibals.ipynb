{
  "nbformat": 4,
  "nbformat_minor": 0,
  "metadata": {
    "colab": {
      "provenance": [],
      "collapsed_sections": [],
      "authorship_tag": "ABX9TyNR9ACF/PgtzBkPzR9ETphF",
      "include_colab_link": true
    },
    "kernelspec": {
      "name": "python3",
      "display_name": "Python 3"
    },
    "language_info": {
      "name": "python"
    }
  },
  "cells": [
    {
      "cell_type": "markdown",
      "metadata": {
        "id": "view-in-github",
        "colab_type": "text"
      },
      "source": [
        "<a href=\"https://colab.research.google.com/github/Nishanelge123/Missionary-Cannibals_/blob/main/missonaries_canibals.ipynb\" target=\"_parent\"><img src=\"https://colab.research.google.com/assets/colab-badge.svg\" alt=\"Open In Colab\"/></a>"
      ]
    },
    {
      "cell_type": "code",
      "execution_count": null,
      "metadata": {
        "id": "PqPcBpRhkutH"
      },
      "outputs": [],
      "source": [
        "Problem statement:\n",
        "Create famous 3 missionary 3 cannibals crossing the river game. Rules are as follows.\n",
        "Demonstration.\n",
        "\n",
        "Rules:\n",
        "Number of missionary on either side should never be less than number of cannibals\n",
        "Only one or 2 people can travel through boat at a time.\n",
        "You win the game when all missionary and cannibals on left go to right side"
      ]
    },
    {
      "cell_type": "code",
      "source": [
        "#### Your code ####\n",
        "boat_side= \"right\"\n",
        "missionaries_on_right=3\n",
        "cannibals_on_right=3\n",
        "missionaries_on_left=0\n",
        "cannibals_on_left=0\n",
        "print('m=',missionaries_on_left,'c=',cannibals_on_left,'|-----B|','m=',missionaries_on_right,'c=',cannibals_on_right)\n",
        "while True:\n",
        "  missionaries=int(input(\"taking missionaries from right side: \"))\n",
        "  cannibals=int(input(\"taking cannibals from right side: \"))\n",
        "  on_boat= missionaries+cannibals\n",
        "  if boat_side=='right' :\n",
        "    print(\"right\")\n",
        "    if on_boat==1 or on_boat==2:\n",
        "      print(\"valid move\")\n",
        "      if missionaries>missionaries_on_right or cannibals>cannibals_on_right:\n",
        "        print(\"invalid move 2\")\n",
        "      else:\n",
        "        missionaries_on_right = missionaries_on_right-missionaries\n",
        "        cannibals_on_right=cannibals_on_right-cannibals\n",
        "        missionaries_on_left=missionaries_on_left+missionaries\n",
        "        cannibals_on_left=cannibals_on_left+cannibals\n",
        "        print('m=',missionaries_on_left,'c=',cannibals_on_left,'|-----B|','m=',missionaries_on_right,'c=',cannibals_on_right)\n",
        "        if (missionaries<cannibals_on_left)and (missionaries_on_left>0):\n",
        "          print(\"you lose\")\n",
        "          break\n",
        "        elif (missionaries_on_left + cannibals_on_left)==3:\n",
        "          print(\"you win\")\n",
        "          break\n",
        "        boat_side=\"left\"\n",
        "\n",
        "    else:\n",
        "      print(\"invalid move1\")\n",
        "    \n",
        "    \n",
        "  elif boat_side =='left' :\n",
        "    print(\"left\")\n",
        "  if missionaries>missionaries_on_left or cannibals>cannibals_on_left:\n",
        "    print(\"invalid move 2\")\n",
        "  missionaries_on_right = missionaries_on_right+missionaries\n",
        "  cannibals_on_right=cannibals_on_right+cannibals\n",
        "  missionaries_on_left=missionaries_on_left-missionaries\n",
        "  cannibals_on_left=cannibals_on_left-cannibals\n",
        "\n",
        "  print('m=',missionaries_on_left,'c=',cannibals_on_left,'|-----B|','m=',missionaries_on_right,'c=',cannibals_on_right)\n",
        "  if (missionaries<cannibals_on_right )and (missionaries_on_right>0):\n",
        "    print(\"you lose\")"
      ],
      "metadata": {
        "id": "6U92G4ZBlRj0"
      },
      "execution_count": null,
      "outputs": []
    },
    {
      "cell_type": "code",
      "source": [
        "#### Your code ####\n",
        "boat_side= \"right\"\n",
        "missionaries_on_right=3\n",
        "cannibals_on_right=3\n",
        "missionaries_on_left=0\n",
        "cannibals_on_left=0\n",
        "print('\\U0001f482'*missionaries_on_left,'\\U0001f479'*cannibals_on_left,'\\U0001f30a'*4,'\\U0001f6A2', '\\U0001f482'*missionaries_on_right,'\\U0001f479'*cannibals_on_right)\n",
        "while True:\n",
        "  missionaries=int(input(\"taking missionaries: \"))\n",
        "  cannibals=int(input(\"taking cannibals : \"))\n",
        "  on_boat= missionaries+cannibals\n",
        "  if boat_side=='right' :\n",
        "    print(\"right\")\n",
        "    if on_boat==1 or on_boat==2:\n",
        "      print(\"valid move\")\n",
        "      if missionaries>missionaries_on_right or cannibals>cannibals_on_right:\n",
        "        print(\"invalid move 2\")\n",
        "        continue\n",
        "      else:\n",
        "        missionaries_on_right = missionaries_on_right-missionaries\n",
        "        cannibals_on_right=cannibals_on_right-cannibals\n",
        "        missionaries_on_left=missionaries_on_left+missionaries\n",
        "        cannibals_on_left=cannibals_on_left+cannibals\n",
        "        print('\\U0001f482'*missionaries_on_left,'\\U0001f479'*cannibals_on_left,'\\U0001f30a'*4,'\\U0001f6A2', '\\U0001f482'*missionaries_on_right,'\\U0001f479'*cannibals_on_right)\n",
        "        if (missionaries_on_left<cannibals_on_left)and (missionaries_on_left>0):\n",
        "          print(\"you lose\")\n",
        "          break\n",
        "        elif (missionaries_on_left + cannibals_on_left)==6:\n",
        "          print(\"you win\")\n",
        "          break\n",
        "        boat_side=\"left\"\n",
        "        continue\n",
        "    else:\n",
        "      print(\"plz enter valid input\")\n",
        "      continue\n",
        "  elif boat_side =='left' :\n",
        "    print(\"left\")\n",
        "    if on_boat==1 or on_boat==2:\n",
        "      print(\"valid move\")\n",
        "      if missionaries>missionaries_on_left or cannibals>cannibals_on_left:\n",
        "        print(\"invalid move 2\")\n",
        "      else:\n",
        "        missionaries_on_right = missionaries_on_right+missionaries\n",
        "        cannibals_on_right=cannibals_on_right+cannibals\n",
        "        missionaries_on_left=missionaries_on_left-missionaries\n",
        "        cannibals_on_left=cannibals_on_left-cannibals\n",
        "        print('\\U0001f482'*missionaries_on_left,'\\U0001f479'*cannibals_on_left,'\\U0001f30a'*4,'\\U0001f6A2', '\\U0001f482'*missionaries_on_right,'\\U0001f479'*cannibals_on_right)\n",
        "        if (missionaries_on_right<cannibals_on_right )and (missionaries_on_right>0):\n",
        "             print(\"you lose\")\n",
        "             break\n",
        "        boat_side=\"right\"\n",
        "    else:\n",
        "      print(\"plz enter valid input\")\n",
        "      continue"
      ],
      "metadata": {
        "id": "-yNg7jhGtwdB"
      },
      "execution_count": null,
      "outputs": []
    }
  ]
}